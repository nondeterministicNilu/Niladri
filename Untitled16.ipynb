{
  "nbformat": 4,
  "nbformat_minor": 0,
  "metadata": {
    "colab": {
      "name": "Untitled16.ipynb",
      "provenance": [],
      "collapsed_sections": [],
      "authorship_tag": "ABX9TyP37DIVw7ICmxtl/qpAvJVt",
      "include_colab_link": true
    },
    "kernelspec": {
      "name": "python3",
      "display_name": "Python 3"
    }
  },
  "cells": [
    {
      "cell_type": "markdown",
      "metadata": {
        "id": "view-in-github",
        "colab_type": "text"
      },
      "source": [
        "<a href=\"https://colab.research.google.com/github/nondeterministicNilu/Niladri-Machine-Learning-Deep-Learning/blob/master/Untitled16.ipynb\" target=\"_parent\"><img src=\"https://colab.research.google.com/assets/colab-badge.svg\" alt=\"Open In Colab\"/></a>"
      ]
    },
    {
      "cell_type": "code",
      "metadata": {
        "id": "ADlpwwKUwQjf"
      },
      "source": [
        "week=[\"Sunday\",\"Monday\",\"Tuesday\",\"Wednesday\",\"Thursday\",\"Friday\",\"Saturday\"]\n",
        "Cmonth=[31,29,31,30,31,30,31,31,30,31,30,31]\n",
        "info=[26,9,2020,6]"
      ],
      "execution_count": 1,
      "outputs": []
    },
    {
      "cell_type": "code",
      "metadata": {
        "id": "l5Lu0SSHxKxc",
        "outputId": "e1ae0853-94d5-4161-ee15-a8c5754a2f7f",
        "colab": {
          "base_uri": "https://localhost:8080/",
          "height": 105
        }
      },
      "source": [
        "#Program 1.9\n",
        "year=int(input(\"Enter year: \"))\n",
        "month=int(input(\"Enter month: \"))\n",
        "day=int(input(\"Enter day: \"))\n",
        "days=0\n",
        "x=info[2]-year\n",
        "if x>0:\n",
        "  if info[1]>month:\n",
        "    days+=x*365\n",
        "  elif info[1]==month and day<=info[0]:\n",
        "    days+=x*365\n",
        "  else:\n",
        "    days+=(x-1)*365\n",
        "  if year%4==0 and month<3:\n",
        "    days+=(x//4-1)\n",
        "  else:\n",
        "    days+=x//4\n",
        "  if year<1901:\n",
        "    if year%100==0 and month>2:\n",
        "      days-=(((2000-year)//400+1)*3-1)\n",
        "    else:\n",
        "      days-=((2000-year)//400+1)*3\n",
        "if (year!=info[2] or month!=info[1]):\n",
        "  days+=26\n",
        "  if (info[1]==month and info[2]!=year):\n",
        "    days+=(30-day+1+365-30)\n",
        "  else:\n",
        "    days+=(Cmonth[month-1]-day)\n",
        "    k=(info[1]-month)%12-1\n",
        "    l=info[1]-1\n",
        "    while k>0:\n",
        "      days+=Cmonth[l-1]\n",
        "      l=(l-1)%12\n",
        "      if l==0:\n",
        "        l=12\n",
        "      k-=1\n",
        "else:\n",
        "  days=info[0]-day\n",
        "print(days)\n",
        "print(\"Ans is: \"+week[(info[3]-days)%7]+\".\")"
      ],
      "execution_count": 22,
      "outputs": [
        {
          "output_type": "stream",
          "text": [
            "Enter year: 2020\n",
            "Enter month: 1\n",
            "Enter day: 31\n",
            "239\n",
            "Ans is: Friday.\n"
          ],
          "name": "stdout"
        }
      ]
    },
    {
      "cell_type": "code",
      "metadata": {
        "id": "nTWiKV6G4I1g"
      },
      "source": [
        "20"
      ],
      "execution_count": null,
      "outputs": []
    }
  ]
}