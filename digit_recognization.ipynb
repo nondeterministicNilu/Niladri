{
  "nbformat": 4,
  "nbformat_minor": 0,
  "metadata": {
    "colab": {
      "name": "digit_recognization",
      "provenance": [],
      "collapsed_sections": [],
      "authorship_tag": "ABX9TyPU56OrDRKkP+oNWLzuS+p3",
      "include_colab_link": true
    },
    "kernelspec": {
      "name": "python3",
      "display_name": "Python 3"
    }
  },
  "cells": [
    {
      "cell_type": "markdown",
      "metadata": {
        "id": "view-in-github",
        "colab_type": "text"
      },
      "source": [
        "<a href=\"https://colab.research.google.com/github/nondeterministicNilu/Niladri/blob/master/digit_recognization.ipynb\" target=\"_parent\"><img src=\"https://colab.research.google.com/assets/colab-badge.svg\" alt=\"Open In Colab\"/></a>"
      ]
    },
    {
      "cell_type": "code",
      "metadata": {
        "id": "FRN_N6ZDcbud",
        "colab_type": "code",
        "colab": {}
      },
      "source": [
        "import pandas as pd\n",
        "import numpy as np\n",
        "import os\n",
        "import re"
      ],
      "execution_count": 1,
      "outputs": []
    },
    {
      "cell_type": "code",
      "metadata": {
        "id": "oFEkp_Yjcjsq",
        "colab_type": "code",
        "colab": {
          "base_uri": "https://localhost:8080/",
          "height": 33
        },
        "outputId": "67cbf43e-05bc-4cba-9a3d-f11c808adbde"
      },
      "source": [
        "from keras.datasets import mnist"
      ],
      "execution_count": 2,
      "outputs": [
        {
          "output_type": "stream",
          "text": [
            "Using TensorFlow backend.\n"
          ],
          "name": "stderr"
        }
      ]
    },
    {
      "cell_type": "code",
      "metadata": {
        "id": "jTCbwa11cpVS",
        "colab_type": "code",
        "colab": {
          "base_uri": "https://localhost:8080/",
          "height": 50
        },
        "outputId": "b29dcb24-6af3-4f41-b8ae-f44431c375a5"
      },
      "source": [
        "(X_train, y_train), (X_test, y_test) = mnist.load_data()"
      ],
      "execution_count": 3,
      "outputs": [
        {
          "output_type": "stream",
          "text": [
            "Downloading data from https://s3.amazonaws.com/img-datasets/mnist.npz\n",
            "11493376/11490434 [==============================] - 2s 0us/step\n"
          ],
          "name": "stdout"
        }
      ]
    },
    {
      "cell_type": "code",
      "metadata": {
        "id": "YthVB7AFh3R2",
        "colab_type": "code",
        "colab": {
          "base_uri": "https://localhost:8080/",
          "height": 281
        },
        "outputId": "20511f4c-2afe-442c-cca5-c3ad71eafbd4"
      },
      "source": [
        "import matplotlib.pyplot as plt\n",
        "plt.imshow(X_train[565])"
      ],
      "execution_count": 4,
      "outputs": [
        {
          "output_type": "execute_result",
          "data": {
            "text/plain": [
              "<matplotlib.image.AxesImage at 0x7fbf422cccf8>"
            ]
          },
          "metadata": {
            "tags": []
          },
          "execution_count": 4
        },
        {
          "output_type": "display_data",
          "data": {
            "image/png": "[encoded data removed]",
            "text/plain": [
              "<Figure size 432x288 with 1 Axes>"
            ]
          },
          "metadata": {
            "tags": [],
            "needs_background": "light"
          }
        }
      ]
    },
    {
      "cell_type": "code",
      "metadata": {
        "id": "m0ThqlaWYEqh",
        "colab_type": "code",
        "colab": {
          "base_uri": "https://localhost:8080/",
          "height": 33
        },
        "outputId": "4235476c-828a-409f-d66b-92d54da80f3b"
      },
      "source": [
        "y_train[565]"
      ],
      "execution_count": 5,
      "outputs": [
        {
          "output_type": "execute_result",
          "data": {
            "text/plain": [
              "6"
            ]
          },
          "metadata": {
            "tags": []
          },
          "execution_count": 5
        }
      ]
    },
    {
      "cell_type": "code",
      "metadata": {
        "id": "16M28jZOcted",
        "colab_type": "code",
        "colab": {
          "base_uri": "https://localhost:8080/",
          "height": 82
        },
        "outputId": "02277b84-e81c-42ed-a0a9-eb95ab12e111"
      },
      "source": [
        "print(\"X_train shape\", X_train.shape)\n",
        "print(\"y_train shape\", y_train.shape)\n",
        "print(\"X_test shape\", X_test.shape)\n",
        "print(\"y_test shape\", y_test.shape)"
      ],
      "execution_count": 6,
      "outputs": [
        {
          "output_type": "stream",
          "text": [
            "X_train shape (60000, 28, 28)\n",
            "y_train shape (60000,)\n",
            "X_test shape (10000, 28, 28)\n",
            "y_test shape (10000,)\n"
          ],
          "name": "stdout"
        }
      ]
    },
    {
      "cell_type": "code",
      "metadata": {
        "id": "VHQQE2LydtJx",
        "colab_type": "code",
        "colab": {}
      },
      "source": [
        "from keras.models import Sequential\n",
        "from keras.layers import Dense, Dropout, Conv2D, MaxPool2D\n",
        "from keras.utils import np_utils"
      ],
      "execution_count": 7,
      "outputs": []
    },
    {
      "cell_type": "code",
      "metadata": {
        "id": "CpBUMQ7QhlI7",
        "colab_type": "code",
        "colab": {
          "base_uri": "https://localhost:8080/",
          "height": 82
        },
        "outputId": "a1ae821f-e81a-4fb2-dd8a-31e9736f074f"
      },
      "source": [
        "# Flattening the images from the 28x28 pixels to 1D 787 pixels\n",
        "X_train = X_train.reshape(60000, 784)\n",
        "X_test = X_test.reshape(10000, 784)\n",
        "X_train = X_train.astype('float32')\n",
        "X_test = X_test.astype('float32')\n",
        "\n",
        "print(\"X_train shape\", X_train.shape)\n",
        "print(\"y_train shape\", y_train.shape)\n",
        "print(\"X_test shape\", X_test.shape)\n",
        "print(\"y_test shape\", y_test.shape)\n",
        "\n",
        "# normalizing the data to help with the training\n",
        "X_train /= 255\n",
        "X_test /= 255"
      ],
      "execution_count": 8,
      "outputs": [
        {
          "output_type": "stream",
          "text": [
            "X_train shape (60000, 784)\n",
            "y_train shape (60000,)\n",
            "X_test shape (10000, 784)\n",
            "y_test shape (10000,)\n"
          ],
          "name": "stdout"
        }
      ]
    },
    {
      "cell_type": "code",
      "metadata": {
        "id": "BC6MvxOrhvua",
        "colab_type": "code",
        "colab": {
          "base_uri": "https://localhost:8080/",
          "height": 50
        },
        "outputId": "43db50e1-9012-4ecc-a4aa-bc6f78c6497b"
      },
      "source": [
        "# one-hot encoding using keras' numpy-related utilities\n",
        "n_classes = 10\n",
        "print(\"Shape before one-hot encoding: \", y_train.shape)\n",
        "Y_train = np_utils.to_categorical(y_train, n_classes)\n",
        "Y_test = np_utils.to_categorical(y_test, n_classes)\n",
        "print(\"Shape after one-hot encoding: \", Y_train.shape)"
      ],
      "execution_count": 9,
      "outputs": [
        {
          "output_type": "stream",
          "text": [
            "Shape before one-hot encoding:  (60000,)\n",
            "Shape after one-hot encoding:  (60000, 10)\n"
          ],
          "name": "stdout"
        }
      ]
    },
    {
      "cell_type": "code",
      "metadata": {
        "id": "gNwAqMH6h8Cz",
        "colab_type": "code",
        "colab": {}
      },
      "source": [
        "# building a linear stack of layers with the sequential model\n",
        "model = Sequential()\n",
        "# hidden layer\n",
        "model.add(Dense(100, input_shape=(784,), activation='relu'))\n",
        "# output layer\n",
        "model.add(Dense(10, activation='softmax'))"
      ],
      "execution_count": 10,
      "outputs": []
    },
    {
      "cell_type": "code",
      "metadata": {
        "id": "6x0joszsiHQi",
        "colab_type": "code",
        "colab": {
          "base_uri": "https://localhost:8080/",
          "height": 212
        },
        "outputId": "931907e8-bafb-433b-827c-545dc1fb6491"
      },
      "source": [
        "# looking at the model summary\n",
        "model.summary()"
      ],
      "execution_count": 11,
      "outputs": [
        {
          "output_type": "stream",
          "text": [
            "Model: \"sequential_1\"\n",
            "_________________________________________________________________\n",
            "Layer (type)                 Output Shape              Param #   \n",
            "=================================================================\n",
            "dense_1 (Dense)              (None, 100)               78500     \n",
            "_________________________________________________________________\n",
            "dense_2 (Dense)              (None, 10)                1010      \n",
            "=================================================================\n",
            "Total params: 79,510\n",
            "Trainable params: 79,510\n",
            "Non-trainable params: 0\n",
            "_________________________________________________________________\n"
          ],
          "name": "stdout"
        }
      ]
    },
    {
      "cell_type": "code",
      "metadata": {
        "id": "vZpMaLq1abRD",
        "colab_type": "code",
        "colab": {
          "base_uri": "https://localhost:8080/",
          "height": 33
        },
        "outputId": "5f9097d5-d20a-4d63-9d24-30327956f446"
      },
      "source": [
        "X_train[6].shape"
      ],
      "execution_count": 12,
      "outputs": [
        {
          "output_type": "execute_result",
          "data": {
            "text/plain": [
              "(784,)"
            ]
          },
          "metadata": {
            "tags": []
          },
          "execution_count": 12
        }
      ]
    },
    {
      "cell_type": "code",
      "metadata": {
        "id": "VSPmT_Ntabd-",
        "colab_type": "code",
        "colab": {}
      },
      "source": [
        "w=X_train[6].reshape(28,28)"
      ],
      "execution_count": 13,
      "outputs": []
    },
    {
      "cell_type": "code",
      "metadata": {
        "id": "B0ER0G0JabpJ",
        "colab_type": "code",
        "colab": {
          "base_uri": "https://localhost:8080/",
          "height": 33
        },
        "outputId": "0cdd4c40-5be7-46d2-b2d7-e369924fbf6f"
      },
      "source": [
        "w.shape"
      ],
      "execution_count": 14,
      "outputs": [
        {
          "output_type": "execute_result",
          "data": {
            "text/plain": [
              "(28, 28)"
            ]
          },
          "metadata": {
            "tags": []
          },
          "execution_count": 14
        }
      ]
    },
    {
      "cell_type": "code",
      "metadata": {
        "id": "O6l03y_RiJoo",
        "colab_type": "code",
        "colab": {
          "base_uri": "https://localhost:8080/",
          "height": 82
        },
        "outputId": "710af93e-1ac2-4857-ae0f-60ea7aeac1f0"
      },
      "source": [
        "import time\n",
        "s=time.time()\n",
        "# compiling the sequential model\n",
        "model.compile(loss='categorical_crossentropy', metrics=['accuracy'], optimizer='adam')\n",
        "# training the model for 10 epochy\n",
        "model.fit(X_train, Y_train, batch_size=128, epochs=1, validation_data=(X_test, Y_test))\n",
        "print(str(time.time()-s)+' sec')"
      ],
      "execution_count": 15,
      "outputs": [
        {
          "output_type": "stream",
          "text": [
            "Train on 60000 samples, validate on 10000 samples\n",
            "Epoch 1/1\n",
            "60000/60000 [==============================] - 2s 32us/step - loss: 0.3776 - accuracy: 0.8947 - val_loss: 0.2088 - val_accuracy: 0.9404\n",
            "2.258676528930664 sec\n"
          ],
          "name": "stdout"
        }
      ]
    },
    {
      "cell_type": "code",
      "metadata": {
        "id": "a2oMTobIkiHA",
        "colab_type": "code",
        "colab": {}
      },
      "source": [
        "M=X_train[0:6000]\n",
        "N=y_train[0:6000]\n",
        "m=X_test[0:1000]\n",
        "n=y_test[0:1000]"
      ],
      "execution_count": 16,
      "outputs": []
    },
    {
      "cell_type": "code",
      "metadata": {
        "id": "kFyAe0qVb4OT",
        "colab_type": "code",
        "colab": {
          "base_uri": "https://localhost:8080/",
          "height": 33
        },
        "outputId": "c6b4fb03-5b24-4af0-b0b7-efbce22f8c30"
      },
      "source": [
        "y_train.shape"
      ],
      "execution_count": 17,
      "outputs": [
        {
          "output_type": "execute_result",
          "data": {
            "text/plain": [
              "(60000,)"
            ]
          },
          "metadata": {
            "tags": []
          },
          "execution_count": 17
        }
      ]
    },
    {
      "cell_type": "code",
      "metadata": {
        "id": "C4MZtqwRHIWI",
        "colab_type": "code",
        "colab": {
          "base_uri": "https://localhost:8080/",
          "height": 50
        },
        "outputId": "734ccf87-dc21-4419-db6f-b12e424cb23a"
      },
      "source": [
        "import time\n",
        "s=time.time()\n",
        "from sklearn.svm import SVC # \"Support vector classifier\"\n",
        "from sklearn.metrics import accuracy_score\n",
        "model = SVC(kernel='linear', C=1E10)\n",
        "model.fit(M, N)\n",
        "n_pred = model.predict(m) \n",
        "print(\"Accuracy:\",  accuracy_score(n, n_pred))\n",
        "print(str(time.time()-s)+' sec')"
      ],
      "execution_count": 18,
      "outputs": [
        {
          "output_type": "stream",
          "text": [
            "Accuracy: 0.888\n",
            "9.679291248321533 sec\n"
          ],
          "name": "stdout"
        }
      ]
    },
    {
      "cell_type": "code",
      "metadata": {
        "id": "f3lfK4HnHIs8",
        "colab_type": "code",
        "colab": {
          "base_uri": "https://localhost:8080/",
          "height": 50
        },
        "outputId": "1acaf9cc-800d-4151-9337-f9e67deed114"
      },
      "source": [
        "import time\n",
        "s=time.time()\n",
        "from sklearn.tree import DecisionTreeClassifier\n",
        "from sklearn.metrics import accuracy_score\n",
        "clf = DecisionTreeClassifier()\n",
        "clf = clf.fit(X_train,y_train)\n",
        "y_pred = clf.predict(X_test)\n",
        "print(\"Accuracy:\",accuracy_score(y_test, y_pred))\n",
        "print(str(time.time()-s)+' sec')"
      ],
      "execution_count": 22,
      "outputs": [
        {
          "output_type": "stream",
          "text": [
            "Accuracy: 0.8776\n",
            "18.994372844696045 sec\n"
          ],
          "name": "stdout"
        }
      ]
    },
    {
      "cell_type": "code",
      "metadata": {
        "id": "VXSRDDR-HJrX",
        "colab_type": "code",
        "colab": {
          "base_uri": "https://localhost:8080/",
          "height": 180
        },
        "outputId": "31013eb8-87d0-4988-ffd5-a4acc38e0554"
      },
      "source": [
        "import time\n",
        "s=time.time()\n",
        "from sklearn import datasets, linear_model \n",
        "reg = linear_model.LogisticRegression() \n",
        "reg.fit(X_train, y_train) \n",
        "y_pred = reg.predict(X_test) \n",
        "print(\"Accuracy:\",  accuracy_score(y_test, y_pred)) \n",
        "print(str(time.time()-s)+' sec')"
      ],
      "execution_count": 21,
      "outputs": [
        {
          "output_type": "stream",
          "text": [
            "Accuracy: 0.9256\n",
            "33.6272349357605 sec\n"
          ],
          "name": "stdout"
        },
        {
          "output_type": "stream",
          "text": [
            "/usr/local/lib/python3.6/dist-packages/sklearn/linear_model/_logistic.py:940: ConvergenceWarning: lbfgs failed to converge (status=1):\n",
            "STOP: TOTAL NO. of ITERATIONS REACHED LIMIT.\n",
            "\n",
            "Increase the number of iterations (max_iter) or scale the data as shown in:\n",
            "    https://scikit-learn.org/stable/modules/preprocessing.html\n",
            "Please also refer to the documentation for alternative solver options:\n",
            "    https://scikit-learn.org/stable/modules/linear_model.html#logistic-regression\n",
            "  extra_warning_msg=_LOGISTIC_SOLVER_CONVERGENCE_MSG)\n"
          ],
          "name": "stderr"
        }
      ]
    },
    {
      "cell_type": "code",
      "metadata": {
        "id": "2S2c2uCUHJ3h",
        "colab_type": "code",
        "colab": {}
      },
      "source": [
        ""
      ],
      "execution_count": null,
      "outputs": []
    },
    {
      "cell_type": "code",
      "metadata": {
        "id": "X-SnkgqmJ7qt",
        "colab_type": "code",
        "colab": {}
      },
      "source": [
        ""
      ],
      "execution_count": null,
      "outputs": []
    },
    {
      "cell_type": "code",
      "metadata": {
        "id": "TTj_bmTWJ78q",
        "colab_type": "code",
        "colab": {}
      },
      "source": [
        "# Predicting unknown values"
      ],
      "execution_count": null,
      "outputs": []
    },
    {
      "cell_type": "code",
      "metadata": {
        "id": "LEv8et7vhsU8",
        "colab_type": "code",
        "colab": {}
      },
      "source": [
        "from google.colab import files\n",
        "\n",
        "uploaded = files.upload()\n",
        "\n",
        "for fn in uploaded.keys():\n",
        "  print('User uploaded file \"{name}\" with length {length} bytes'.format(name=fn, length=len(uploaded[fn])))"
      ],
      "execution_count": null,
      "outputs": []
    },
    {
      "cell_type": "code",
      "metadata": {
        "id": "BaIU-hQGTwXq",
        "colab_type": "code",
        "colab": {}
      },
      "source": [
        "for i in uploaded.keys():\n",
        "  print(i)"
      ],
      "execution_count": null,
      "outputs": []
    },
    {
      "cell_type": "code",
      "metadata": {
        "id": "p2SrItNxxEDk",
        "colab_type": "code",
        "colab": {}
      },
      "source": [
        "from tensorflow.keras.preprocessing.image import load_img,img_to_array"
      ],
      "execution_count": null,
      "outputs": []
    },
    {
      "cell_type": "code",
      "metadata": {
        "id": "EXCCg7qQxIZE",
        "colab_type": "code",
        "colab": {}
      },
      "source": [
        "import matplotlib.pyplot as plt\n",
        "from IPython.display import Image"
      ],
      "execution_count": null,
      "outputs": []
    },
    {
      "cell_type": "code",
      "metadata": {
        "id": "PSHxP4FaxOaf",
        "colab_type": "code",
        "colab": {}
      },
      "source": [
        "for i in uploaded.keys():\n",
        "  Image(i,width=200)"
      ],
      "execution_count": null,
      "outputs": []
    },
    {
      "cell_type": "code",
      "metadata": {
        "id": "sqUcKMh2zez4",
        "colab_type": "code",
        "colab": {}
      },
      "source": [
        "import cv2\n",
        "for i in uploaded.keys():\n",
        "  im=cv2.imread(i)"
      ],
      "execution_count": null,
      "outputs": []
    },
    {
      "cell_type": "code",
      "metadata": {
        "id": "dCm7gQ4ozh-g",
        "colab_type": "code",
        "colab": {}
      },
      "source": [
        "im.shape"
      ],
      "execution_count": null,
      "outputs": []
    },
    {
      "cell_type": "code",
      "metadata": {
        "id": "MFKhK4lfxRbr",
        "colab_type": "code",
        "colab": {}
      },
      "source": [
        "import cv2\n",
        "\n",
        "for i in uploaded.keys():\n",
        "  im=cv2.imread(i)\n",
        "#   full_path=i\n",
        "# im=load_img(full_path,target_size=(28,28))\n",
        "print(im)"
      ],
      "execution_count": null,
      "outputs": []
    },
    {
      "cell_type": "code",
      "metadata": {
        "id": "0JVseUauz7WO",
        "colab_type": "code",
        "colab": {}
      },
      "source": [
        "import matplotlib.pyplot as plt\n",
        "plt.imshow(im)"
      ],
      "execution_count": null,
      "outputs": []
    },
    {
      "cell_type": "code",
      "metadata": {
        "id": "PFvJGei_0GAv",
        "colab_type": "code",
        "colab": {}
      },
      "source": [
        "im1=im[:,:,0]"
      ],
      "execution_count": null,
      "outputs": []
    },
    {
      "cell_type": "code",
      "metadata": {
        "id": "ta3G39T-0OLf",
        "colab_type": "code",
        "colab": {}
      },
      "source": [
        "import matplotlib.pyplot as plt\n",
        "plt.imshow(im1)"
      ],
      "execution_count": null,
      "outputs": []
    },
    {
      "cell_type": "code",
      "metadata": {
        "id": "EjQGRM3O0TUS",
        "colab_type": "code",
        "colab": {}
      },
      "source": [
        "print(im1)"
      ],
      "execution_count": null,
      "outputs": []
    },
    {
      "cell_type": "code",
      "metadata": {
        "id": "bEW1J89SxyaV",
        "colab_type": "code",
        "colab": {}
      },
      "source": [
        "im2=img_to_array(im1)"
      ],
      "execution_count": null,
      "outputs": []
    },
    {
      "cell_type": "code",
      "metadata": {
        "id": "jc9gN3KMyrIn",
        "colab_type": "code",
        "colab": {}
      },
      "source": [
        "im3=im2.reshape(1,784)"
      ],
      "execution_count": null,
      "outputs": []
    },
    {
      "cell_type": "code",
      "metadata": {
        "id": "thEdS6Ou0reL",
        "colab_type": "code",
        "colab": {}
      },
      "source": [
        "print(im3)"
      ],
      "execution_count": null,
      "outputs": []
    },
    {
      "cell_type": "code",
      "metadata": {
        "id": "SHvL1Z5_0x8g",
        "colab_type": "code",
        "colab": {}
      },
      "source": [
        "import matplotlib.pyplot as plt\n",
        "plt.imshow(im3)"
      ],
      "execution_count": null,
      "outputs": []
    },
    {
      "cell_type": "code",
      "metadata": {
        "id": "RqGpup0qae3h",
        "colab_type": "code",
        "colab": {}
      },
      "source": [
        "im4=im3/255"
      ],
      "execution_count": null,
      "outputs": []
    },
    {
      "cell_type": "code",
      "metadata": {
        "id": "JElhF-ZG18U0",
        "colab_type": "code",
        "colab": {}
      },
      "source": [
        "digit = model.predict_classes(im4)\n",
        "print(digit[0])\n",
        " \n",
        "# entry point, run the example\n",
        "#run_example()"
      ],
      "execution_count": null,
      "outputs": []
    },
    {
      "cell_type": "code",
      "metadata": {
        "id": "B6XPwAyieqgK",
        "colab_type": "code",
        "colab": {}
      },
      "source": [
        "im3"
      ],
      "execution_count": null,
      "outputs": []
    },
    {
      "cell_type": "code",
      "metadata": {
        "id": "2HY7JC86i4b2",
        "colab_type": "code",
        "colab": {}
      },
      "source": [
        "im5=255-im3"
      ],
      "execution_count": null,
      "outputs": []
    },
    {
      "cell_type": "code",
      "metadata": {
        "id": "kuPHi96ai78Y",
        "colab_type": "code",
        "colab": {}
      },
      "source": [
        "im5"
      ],
      "execution_count": null,
      "outputs": []
    },
    {
      "cell_type": "code",
      "metadata": {
        "id": "YJJ4e44wi9vQ",
        "colab_type": "code",
        "colab": {}
      },
      "source": [
        "im5=im5/255"
      ],
      "execution_count": null,
      "outputs": []
    },
    {
      "cell_type": "code",
      "metadata": {
        "id": "1Nt3Cc2fjAy3",
        "colab_type": "code",
        "colab": {}
      },
      "source": [
        "digit = model.predict_classes(im5)\n",
        "print(digit[0])"
      ],
      "execution_count": null,
      "outputs": []
    },
    {
      "cell_type": "code",
      "metadata": {
        "id": "jR2wJwHJj9Lo",
        "colab_type": "code",
        "colab": {}
      },
      "source": [
        "im3"
      ],
      "execution_count": null,
      "outputs": []
    },
    {
      "cell_type": "code",
      "metadata": {
        "id": "V7zLQ9_Al6MW",
        "colab_type": "code",
        "colab": {}
      },
      "source": [
        "(_, idx, counts) = np.unique(im3, return_index=True, return_counts=True)\n",
        "index = idx[np.argmax(counts)]\n",
        "mode = im3[0][index]"
      ],
      "execution_count": null,
      "outputs": []
    },
    {
      "cell_type": "code",
      "metadata": {
        "id": "cFTBw60Jm5rS",
        "colab_type": "code",
        "colab": {}
      },
      "source": [
        "mode"
      ],
      "execution_count": null,
      "outputs": []
    },
    {
      "cell_type": "code",
      "metadata": {
        "id": "a904HePvnBaj",
        "colab_type": "code",
        "colab": {}
      },
      "source": [
        "import matplotlib.pyplot as plt\n",
        "from IPython.display import Image\n",
        "import cv2\n",
        "lst=['/content/0.png','/content/1.jpg','/content/2.png','/content/3.png','/content/4.png','/content/5.png','/content/6.png','/content/7.png','/content/8.jpg','/content/9.png','/content/Q.jpg','/content/Q2.jpg','/content/4_1.png','/content/5_1.jpg']\n",
        "for uploaded in lst:\n",
        "  im=cv2.imread(uploaded)\n",
        "  im1=im[:,:,0]\n",
        "  im2=img_to_array(im1)\n",
        "  im3=im2.reshape(1,784)\n",
        "  (_, idx, counts) = np.unique(im3, return_index=True, return_counts=True)\n",
        "  index = idx[np.argmax(counts)]\n",
        "  mode = im3[0][index]\n",
        "  if mode>200:\n",
        "    im3=255-im3\n",
        "  im4=im3/255\n",
        "  print(uploaded)\n",
        "  digit = model.predict_classes(im4)\n",
        "  print('Predicted: '+str(digit[0])+'\\t'+uploaded[9])"
      ],
      "execution_count": null,
      "outputs": []
    }
  ]
}